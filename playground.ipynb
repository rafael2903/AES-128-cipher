{
 "cells": [
  {
   "cell_type": "code",
   "execution_count": 7,
   "metadata": {},
   "outputs": [
    {
     "name": "stdout",
     "output_type": "stream",
     "text": [
      "32\n"
     ]
    }
   ],
   "source": [
    "from main import expand_key\n",
    "\n",
    "with open('image.jpg', 'rb') as f:\n",
    "    # for byte in f.read(16):\n",
    "    print(len(expand_key(f.read(16), 2)))\n"
   ]
  },
  {
   "cell_type": "code",
   "execution_count": 1,
   "metadata": {},
   "outputs": [
    {
     "name": "stdout",
     "output_type": "stream",
     "text": [
      "671\n"
     ]
    }
   ],
   "source": [
    "with open('test-image.jpg', 'rb') as f:\n",
    "    print(len([i for i in f.read()]))\n"
   ]
  },
  {
   "cell_type": "code",
   "execution_count": null,
   "metadata": {},
   "outputs": [],
   "source": [
    "from main import encrypt_file\n",
    "\n",
    "key = [0x2b, 0x7e, 0x15, 0x16, 0x28, 0xae, 0xd2, 0xa6,\n",
    "           0xab, 0xf7, 0x15, 0x88, 0x09, 0xcf, 0x4f, 0x3c]\n",
    "\n",
    "# print([b  for b in next(state_from_file('text.txt'))])\n",
    "encrypt_file('text.txt', key)\n"
   ]
  },
  {
   "cell_type": "code",
   "execution_count": null,
   "metadata": {},
   "outputs": [],
   "source": [
    "from main import decrypt_file\n",
    "\n",
    "\n",
    "key = [0x2b, 0x7e, 0x15, 0x16, 0x28, 0xae, 0xd2, 0xa6,\n",
    "           0xab, 0xf7, 0x15, 0x88, 0x09, 0xcf, 0x4f, 0x3c]\n",
    "\n",
    "# print([b  for b in next(state_from_file('text.txt'))])\n",
    "decrypt_file('text.txt.enc', key)\n"
   ]
  },
  {
   "cell_type": "code",
   "execution_count": 1,
   "metadata": {},
   "outputs": [
    {
     "name": "stdout",
     "output_type": "stream",
     "text": [
      "b'abcdefghijklmno\\n'\n",
      "b'\\x10\\x10\\x10\\x10\\x10\\x10\\x10\\x10\\x10\\x10\\x10\\x10\\x10\\x10\\x10\\x10'\n"
     ]
    }
   ],
   "source": [
    "from main import state_from_file\n",
    "gen = state_from_file('text.txt')\n",
    "print((next(gen)))\n",
    "print(next(gen))\n"
   ]
  },
  {
   "cell_type": "code",
   "execution_count": 21,
   "metadata": {},
   "outputs": [
    {
     "data": {
      "text/plain": [
       "[1, 2, 3, 4, 5, 6, 7, 8, 9]"
      ]
     },
     "execution_count": 21,
     "metadata": {},
     "output_type": "execute_result"
    }
   ],
   "source": [
    "def pad_state(state, block_size=16):\n",
    "    padding = block_size - len(state) % block_size\n",
    "    if padding == 0:\n",
    "        padding = block_size\n",
    "\n",
    "    padded_state = state + [padding] * padding\n",
    "    return padded_state\n",
    "\n",
    "\n",
    "padded_state = pad_state([1,2,3,4,5,6,7,8,9], 16)\n",
    "\n",
    "def unpad_state(state):\n",
    "    padding = state[-1]\n",
    "    return state[:-padding]\n",
    "\n",
    "unpad_state(padded_state)\n"
   ]
  },
  {
   "cell_type": "code",
   "execution_count": 22,
   "metadata": {},
   "outputs": [
    {
     "ename": "AttributeError",
     "evalue": "'_io.BufferedReader' object has no attribute 'getsize'",
     "output_type": "error",
     "traceback": [
      "\u001b[0;31m---------------------------------------------------------------------------\u001b[0m",
      "\u001b[0;31mAttributeError\u001b[0m                            Traceback (most recent call last)",
      "\u001b[1;32m/d/Users/rafae/Área de Trabalho/UnB/Matérias/9º Semestre/SC - Segurança Computacional/Trabalhos/Trabalho 2/code/playground.ipynb Cell 5\u001b[0m line \u001b[0;36m2\n\u001b[1;32m      <a href='vscode-notebook-cell://wsl%2Bubuntu-22.04/d/Users/rafae/%C3%81rea%20de%20Trabalho/UnB/Mat%C3%A9rias/9%C2%BA%20Semestre/SC%20-%20Seguran%C3%A7a%20Computacional/Trabalhos/Trabalho%202/code/playground.ipynb#W5sdnNjb2RlLXJlbW90ZQ%3D%3D?line=0'>1</a>\u001b[0m \u001b[39mwith\u001b[39;00m \u001b[39mopen\u001b[39m(\u001b[39m'\u001b[39m\u001b[39mtext.txt\u001b[39m\u001b[39m'\u001b[39m, \u001b[39m'\u001b[39m\u001b[39mrb\u001b[39m\u001b[39m'\u001b[39m) \u001b[39mas\u001b[39;00m f:\n\u001b[0;32m----> <a href='vscode-notebook-cell://wsl%2Bubuntu-22.04/d/Users/rafae/%C3%81rea%20de%20Trabalho/UnB/Mat%C3%A9rias/9%C2%BA%20Semestre/SC%20-%20Seguran%C3%A7a%20Computacional/Trabalhos/Trabalho%202/code/playground.ipynb#W5sdnNjb2RlLXJlbW90ZQ%3D%3D?line=1'>2</a>\u001b[0m     \u001b[39mprint\u001b[39m(f\u001b[39m.\u001b[39;49mgetsize())\n",
      "\u001b[0;31mAttributeError\u001b[0m: '_io.BufferedReader' object has no attribute 'getsize'"
     ]
    }
   ],
   "source": [
    "with open('text.txt', 'rb') as f:\n",
    "    print(f.getsize())\n"
   ]
  },
  {
   "cell_type": "code",
   "execution_count": 23,
   "metadata": {},
   "outputs": [
    {
     "data": {
      "text/plain": [
       "16"
      ]
     },
     "execution_count": 23,
     "metadata": {},
     "output_type": "execute_result"
    }
   ],
   "source": [
    "import os\n",
    "os.path.getsize('text.txt')\n"
   ]
  },
  {
   "cell_type": "code",
   "execution_count": 25,
   "metadata": {},
   "outputs": [
    {
     "name": "stdout",
     "output_type": "stream",
     "text": [
      "16\n"
     ]
    }
   ],
   "source": [
    "with open('text.txt', 'rb') as f:\n",
    "    print(len(f.read()))\n"
   ]
  },
  {
   "cell_type": "code",
   "execution_count": 2,
   "metadata": {},
   "outputs": [
    {
     "name": "stdout",
     "output_type": "stream",
     "text": [
      "f10f082e509f323f26c99a3ea6a88dc3\n",
      "ced99c53171cea23a8248245faa25149\n"
     ]
    }
   ],
   "source": [
    "from main import bytes_to_hex_string\n",
    "\n",
    "\n",
    "before = [241, 15, 8, 46, 80, 159, 50, 63, 38, 201, 154, 62, 166, 168, 141, 195]\n",
    "\n",
    "after = [206, 217, 156, 83, 23, 28, 234, 35, 168, 36, 130, 69, 250, 162, 81, 73]\n",
    "\n",
    "print(bytes_to_hex_string(before))\n",
    "print(bytes_to_hex_string(after))\n"
   ]
  }
 ],
 "metadata": {
  "kernelspec": {
   "display_name": "Python 3",
   "language": "python",
   "name": "python3"
  },
  "language_info": {
   "codemirror_mode": {
    "name": "ipython",
    "version": 3
   },
   "file_extension": ".py",
   "mimetype": "text/x-python",
   "name": "python",
   "nbconvert_exporter": "python",
   "pygments_lexer": "ipython3",
   "version": "3.11.4"
  }
 },
 "nbformat": 4,
 "nbformat_minor": 2
}
